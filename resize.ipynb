{
 "cells": [
  {
   "cell_type": "code",
   "execution_count": 366,
   "metadata": {},
   "outputs": [],
   "source": [
    "import numpy as np\n",
    "import time as T\n",
    "from PIL import Image\n",
    "from cresize import cresizeANN, cresizeABL\n",
    "FBIT = 13\n",
    "VBIT = 1 << FBIT\n",
    "HBIT = 1 << (FBIT - 1)\n",
    "\n",
    "SBIT = 13\n",
    "vSBIT = 1 << SBIT\n",
    "hSBIT = 1 << (SBIT - 1)\n",
    "\n",
    "CR = lambda x,y: ((x << FBIT)//y)\n",
    "SCR = lambda x,y: ((x << SBIT)//y)\n",
    "SDR = lambda x: (x + hSBIT) >> SBIT\n",
    "\n",
    "XINV = np.array([[-1.,  3., -2.,  0.],\n",
    "                 [ 3., -6., -3.,  6.],\n",
    "                 [-3.,  3.,  6.,  0.],\n",
    "                 [ 1.,  0., -1.,  0.]])/6\n",
    "YINV = XINV.T\n",
    "\n",
    "def clip(x, up, low):\n",
    "    x = up if (x > up) else x\n",
    "    x = low if (x < low) else x\n",
    "    return x\n",
    "\n",
    "def reflect(x, up, low):\n",
    "    x = -x if (x < low) else x\n",
    "    x = (up+up-x) if (x > up) else x\n",
    "    return x\n"
   ]
  },
  {
   "cell_type": "code",
   "execution_count": 367,
   "metadata": {},
   "outputs": [],
   "source": [
    "r = SCR(3840,100)\n",
    "w = 80\n",
    "wr = w * r"
   ]
  },
  {
   "cell_type": "code",
   "execution_count": 368,
   "metadata": {},
   "outputs": [
    {
     "data": {
      "text/plain": [
       "9437136"
      ]
     },
     "execution_count": 368,
     "metadata": {},
     "output_type": "execute_result"
    }
   ],
   "source": [
    "SDR(SDR(wr * wr))"
   ]
  },
  {
   "cell_type": "code",
   "execution_count": 369,
   "metadata": {},
   "outputs": [
    {
     "data": {
      "text/plain": [
       "9437184.0"
      ]
     },
     "execution_count": 369,
     "metadata": {},
     "output_type": "execute_result"
    }
   ],
   "source": [
    "(80 * 3840/100 ) ** 2"
   ]
  },
  {
   "cell_type": "code",
   "execution_count": 353,
   "metadata": {},
   "outputs": [
    {
     "data": {
      "text/plain": [
       "0.32653061224489793"
      ]
     },
     "execution_count": 353,
     "metadata": {},
     "output_type": "execute_result"
    }
   ],
   "source": [
    "b = 4/7\n",
    "b*b"
   ]
  },
  {
   "cell_type": "code",
   "execution_count": 351,
   "metadata": {},
   "outputs": [
    {
     "data": {
      "text/plain": [
       "0.328125"
      ]
     },
     "execution_count": 351,
     "metadata": {},
     "output_type": "execute_result"
    }
   ],
   "source": [
    "42 / (1 << SBIT)"
   ]
  },
  {
   "cell_type": "code",
   "execution_count": 342,
   "metadata": {},
   "outputs": [
    {
     "ename": "TypeError",
     "evalue": "bin() takes exactly one argument (2 given)",
     "output_type": "error",
     "traceback": [
      "\u001b[1;31m---------------------------------------------------------------------------\u001b[0m",
      "\u001b[1;31mTypeError\u001b[0m                                 Traceback (most recent call last)",
      "\u001b[1;32m<ipython-input-342-f6bc460981b9>\u001b[0m in \u001b[0;36m<module>\u001b[1;34m()\u001b[0m\n\u001b[1;32m----> 1\u001b[1;33m \u001b[0mbin\u001b[0m\u001b[1;33m(\u001b[0m\u001b[1;33m~\u001b[0m\u001b[1;36m0B1000\u001b[0m\u001b[1;33m,\u001b[0m\u001b[1;34m\"B\"\u001b[0m\u001b[1;33m)\u001b[0m\u001b[1;33m\u001b[0m\u001b[0m\n\u001b[0m",
      "\u001b[1;31mTypeError\u001b[0m: bin() takes exactly one argument (2 given)"
     ]
    }
   ],
   "source": [
    "bin(~0B1000)"
   ]
  },
  {
   "cell_type": "code",
   "execution_count": 32,
   "metadata": {},
   "outputs": [
    {
     "data": {
      "text/plain": [
       "array([[-0.16666667,  0.5       , -0.33333333, -0.        ],\n",
       "       [ 0.5       , -1.        , -0.5       ,  1.        ],\n",
       "       [-0.5       ,  0.5       ,  1.        ,  0.        ],\n",
       "       [ 0.16666667, -0.        , -0.16666667, -0.        ]])"
      ]
     },
     "execution_count": 32,
     "metadata": {},
     "output_type": "execute_result"
    }
   ],
   "source": [
    "Xinv"
   ]
  },
  {
   "cell_type": "markdown",
   "metadata": {},
   "source": [
    "## Resize for nearest neighbor"
   ]
  },
  {
   "cell_type": "code",
   "execution_count": 2,
   "metadata": {},
   "outputs": [],
   "source": [
    "W, H, C = 400, 300, 3\n",
    "im = np.arange( W * H * C, dtype=np.uint8).reshape(C, H, W).transpose(1, 2, 0)\n",
    "rW, rH, rC = 123, 200, 3"
   ]
  },
  {
   "cell_type": "code",
   "execution_count": 9,
   "metadata": {},
   "outputs": [],
   "source": [
    "def CLIP(val, lower, upper):\n",
    "    val = lower if val < lower else val\n",
    "    val = upper if val > upper else val\n",
    "    return val"
   ]
  },
  {
   "cell_type": "code",
   "execution_count": 10,
   "metadata": {},
   "outputs": [],
   "source": [
    "def resizeNN(im, w, h):\n",
    "    ih, iw, ic = im.shape\n",
    "    w_r = iw/w; h_r = ih/h\n",
    "    img = np.empty((h, w, ic), dtype=np.uint8)\n",
    "    p =0\n",
    "    for i in range(h):\n",
    "        hi = int(i*h_r + 0.5)\n",
    "        for j in range(w):\n",
    "            wi = int(j*w_r + 0.5)\n",
    "            for k in range(ic):\n",
    "                img[i,j,k] = im[hi, wi, k]\n",
    "    return img\n",
    "\n",
    "def resizeANN(im, w, h):\n",
    "    ih, iw, ic = im.shape\n",
    "    w_r = CR(iw,w); h_r = CR(ih,h)\n",
    "    img = np.empty((h, w, ic), dtype=np.uint8)\n",
    "    p =0\n",
    "    for i in range(h):\n",
    "        hi = (i * h_r + HBIT) >> FBIT\n",
    "        for j in range(w):\n",
    "            wi = (j * w_r + HBIT) >> FBIT \n",
    "            for k in range(ic):\n",
    "                img[i,j,k] = im[hi, wi, k]\n",
    "    return img\n",
    "\n"
   ]
  },
  {
   "cell_type": "code",
   "execution_count": 3,
   "metadata": {},
   "outputs": [],
   "source": [
    "dog = Image.open(\"Dog.jpg\")\n",
    "dog.show()"
   ]
  },
  {
   "cell_type": "code",
   "execution_count": 24,
   "metadata": {},
   "outputs": [],
   "source": [
    "rdog = resizeANN(np.array(dog), rH, rW)\n",
    "im = Image.fromarray(rdog)\n",
    "im.show()"
   ]
  },
  {
   "cell_type": "code",
   "execution_count": 25,
   "metadata": {},
   "outputs": [],
   "source": [
    "## Time benchmark for floating point calc and fixed point calc"
   ]
  },
  {
   "cell_type": "code",
   "execution_count": 5,
   "metadata": {},
   "outputs": [
    {
     "name": "stdout",
     "output_type": "stream",
     "text": [
      "toc1 vs toc2 vs toc3 4.054576635360718 4.220536708831787 0.16736936569213867\n"
     ]
    }
   ],
   "source": [
    "import time as T\n",
    "\n",
    "RUN = 50\n",
    "W,H = 224, 224\n",
    "ti = T.time()\n",
    "for i in range(RUN):\n",
    "    rdog = resizeANN(np.array(dog), W, H)\n",
    "toc1 = T.time() - ti\n",
    "ti = T.time()\n",
    "for i in range(RUN):\n",
    "    rdog = resizeNN(np.array(dog), W, H)\n",
    "toc2 = T.time() - ti\n",
    "ti = T.time()\n",
    "for i in range(RUN):\n",
    "    rdog = np.asarray(cresizeANN(np.array(dog), W, H))\n",
    "toc3 = T.time() - ti\n",
    "print(\"toc1 vs toc2 vs toc3\", toc1, toc2, toc3)"
   ]
  },
  {
   "cell_type": "code",
   "execution_count": null,
   "metadata": {},
   "outputs": [],
   "source": [
    "\"\"\"\n",
    "https://stackoverflow.com/questions/12729228/simple-efficient-bilinear-interpolation-of-images-in-numpy-and-python\n",
    "\"\"\""
   ]
  },
  {
   "cell_type": "markdown",
   "metadata": {},
   "source": [
    "## resize bilinear interpolation"
   ]
  },
  {
   "cell_type": "code",
   "execution_count": 7,
   "metadata": {},
   "outputs": [],
   "source": [
    "def resizeBL(im, w, h):\n",
    "    im_h, im_w, im_c = im.shape\n",
    "    h_r = im_h / h\n",
    "    w_r = im_w / w\n",
    "    img = np.empty((h,w,im_c))\n",
    "    \n",
    "    for j in range(h):\n",
    "        h0 = j * h_r\n",
    "        n_h0 = int(h0)\n",
    "        n_h1 = n_h0 + 1\n",
    "        n_h1 = np.clip(n_h1, 0, im_h-1)\n",
    "        h0 = h0 % 1\n",
    "        h0V = 1-h0\n",
    "        for k in range(w):\n",
    "            w0 = k * w_r\n",
    "            n_w0 = int(w0)\n",
    "            n_w1 = n_w0 + 1\n",
    "            n_w1 = np.clip(n_w1, 0, im_w-1)\n",
    "            w0 = w0 % 1\n",
    "            w0V = 1 - w0\n",
    "            for i in range(im_c):\n",
    "                #pix00 = im[n_h0, n_w0, i]\n",
    "                #pix01 = im[n_h0, n_w1, i]\n",
    "                #pix10 = im[n_h1, n_w0, i]\n",
    "                #pix11 = im[n_h1, n_w1, i]\n",
    "                #print(\"w0:%.2f, h0:%.2f, n_h0:%d, n_w0:%d, h_r:%.2f, w_r:%.2f\" % (w0, h0, n_h0, n_w0, h_r, w_r))\n",
    "                row_pix0 = im[n_h0, n_w0, i] * w0 + im[n_h0, n_w1, i] * w0V               \n",
    "                row_pix1 = im[n_h1, n_w0, i] * w0 + im[n_h1, n_w1, i] * w0V\n",
    "\n",
    "                img[j, k, i] = int(row_pix0 * h0 + row_pix1 * h0V)\n",
    "                img[j, k, i] = CLIP(img[j, k, i], 0 ,255)\n",
    "\n",
    "    return img.astype(np.uint8)             \n",
    "\n",
    "def resizeABL(im, w, h):\n",
    "    im_h, im_w, im_c = im.shape\n",
    "    h_r = CR(im_h, h)\n",
    "    w_r = CR(im_w, w)\n",
    "    img = np.empty((h,w,im_c))\n",
    "\n",
    "    for j in range(h):\n",
    "        h0 = j * h_r\n",
    "        n_h0 = h0 >> FBIT \n",
    "        n_h1 = n_h0 + 1\n",
    "        #n_h1 = CLIP(n_h1, 0, im_h-1)\n",
    "        h0 = (h0 + HBIT) % VBIT\n",
    "        h0V = VBIT-h0\n",
    "        for k in range(w):\n",
    "            w0 = k * w_r\n",
    "            n_w0 = w0 >> FBIT \n",
    "            n_w1 = n_w0 + 1\n",
    "            #n_w1 = CLIP(n_w1, 0, im_w-1)\n",
    "            w0 = (w0 + HBIT) % VBIT\n",
    "            w0V = VBIT-w0\n",
    "            for i in range(im_c):\n",
    "                #pix00 = im[n_h0, n_w0, i]\n",
    "                #pix01 = im[n_h0, n_w1, i]\n",
    "                #pix10 = im[n_h1, n_w0, i]\n",
    "                #pix11 = im[n_h1, n_w1, i]\n",
    "                row_pix0 = ((im[n_h0, n_w0, i] * w0 + im[n_h0, n_w1, i] * w0V) + HBIT) >> FBIT\n",
    "                row_pix1 = ((im[n_h1, n_w0, i] * w0 + im[n_h1, n_w1, i] * w0V) + HBIT) >> FBIT\n",
    "\n",
    "                img[j, k, i] = ((row_pix0 * h0 + row_pix1 * h0V) + HBIT) >> FBIT\n",
    "                #img[j, k, i] = CLIP(img[j, k, i], 0, 255)\n",
    "    return img.astype(np.uint8)             "
   ]
  },
  {
   "cell_type": "code",
   "execution_count": 179,
   "metadata": {},
   "outputs": [],
   "source": [
    "dog = Image.open(\"Dog.jpg\")\n",
    "dog_array = np.array(dog)\n"
   ]
  },
  {
   "cell_type": "code",
   "execution_count": 80,
   "metadata": {},
   "outputs": [],
   "source": [
    "dog_bi = resizeBL(dog_array, 200, 144)"
   ]
  },
  {
   "cell_type": "code",
   "execution_count": 81,
   "metadata": {},
   "outputs": [],
   "source": [
    "ndog = Image.fromarray(dog_bi)\n",
    "ndog.show()"
   ]
  },
  {
   "cell_type": "code",
   "execution_count": 82,
   "metadata": {},
   "outputs": [],
   "source": [
    "dog_bi = resizeABL(dog_array, 200, 144)"
   ]
  },
  {
   "cell_type": "code",
   "execution_count": 83,
   "metadata": {},
   "outputs": [],
   "source": [
    "ndog = Image.fromarray(dog_bi)\n",
    "ndog.show()"
   ]
  },
  {
   "cell_type": "code",
   "execution_count": 13,
   "metadata": {},
   "outputs": [
    {
     "name": "stdout",
     "output_type": "stream",
     "text": [
      "toc1 vs toc2 vs toc3 20.28959059715271 16.119190454483032 0.04034757614135742\n"
     ]
    }
   ],
   "source": [
    "import time as T\n",
    "\n",
    "RUN = 10\n",
    "W,H = 224, 224\n",
    "ti = T.time()\n",
    "for i in range(RUN):\n",
    "    rdog = resizeBL(np.array(dog), W, H)\n",
    "toc1 = T.time() - ti\n",
    "ti = T.time()\n",
    "for i in range(RUN):\n",
    "    rdog = resizeABL(np.array(dog), W, H)\n",
    "toc2 = T.time() - ti\n",
    "ti = T.time()\n",
    "for i in range(RUN):\n",
    "    rdog = cresizeABL(np.array(dog), W, H)\n",
    "toc3 = T.time() - ti\n",
    "\n",
    "print(\"toc1 vs toc2 vs toc3\", toc1, toc2, toc3)\n"
   ]
  },
  {
   "cell_type": "code",
   "execution_count": 22,
   "metadata": {},
   "outputs": [],
   "source": [
    "## Bicubic"
   ]
  },
  {
   "cell_type": "code",
   "execution_count": null,
   "metadata": {},
   "outputs": [],
   "source": [
    "def bicubic_interpolation2(xi, yi, zi, xnew, ynew):\n",
    "    \"\"\"\n",
    "    @brief \n",
    "    Sample code:\n",
    "    https://stackoverflow.com/questions/52700878/bicubic-interpolation-python\n",
    "    \n",
    "    BiCubic Interpolation explain:\n",
    "    http://www.ahinson.com/algorithms_general/Sections/InterpolationRegression/InterpolationBicubic.pdf\n",
    "    @param xi = old x data range\n",
    "    @param yi = old y range\n",
    "    @param zi = old values at grids points (x,y)\n",
    "    @param xnew = new horizontal data ranges\n",
    "    @param ynew = new horizontal data ranges. All inputs are 1D numpy arrays except zi which is 2D numpy array.\n",
    "    @retval z = resize 2d array with shape = (xnew, ynew)\n",
    "    \"\"\"\n",
    "    # check sorting\n",
    "    if np.any(np.diff(xi) < 0) and np.any(np.diff(yi) < 0) and\\\n",
    "    np.any(np.diff(xnew) < 0) and np.any(np.diff(ynew) < 0):\n",
    "        raise ValueError('data are not sorted')\n",
    "\n",
    "    if zi.shape != (xi.size, yi.size):\n",
    "        raise ValueError('zi is not set properly use np.meshgrid(xi, yi)')\n",
    "\n",
    "    z = np.zeros((xnew.size, ynew.size))\n",
    "\n",
    "    deltax = xi[1] - xi[0]\n",
    "    deltay = yi[1] - yi[0] \n",
    "    for n, x in enumerate(xnew):\n",
    "        for m, y in enumerate(ynew):\n",
    "\n",
    "            if xi.min() <= x <= xi.max() and yi.min() <= y <= yi.max():\n",
    "\n",
    "                i = np.searchsorted(xi, x) - 1\n",
    "                j = np.searchsorted(yi, y) - 1\n",
    "\n",
    "                x1  = xi[i]\n",
    "                x2  = xi[i+1]\n",
    "\n",
    "                y1  = yi[j]\n",
    "                y2  = yi[j+1]\n",
    "\n",
    "                px = (x-x1)/(x2-x1)\n",
    "                py = (y-y1)/(y2-y1)\n",
    "\n",
    "                f00 = zi[i-1, j-1]      #row0 col0 >> x0,y0\n",
    "                f01 = zi[i-1, j]        #row0 col1 >> x1,y0\n",
    "                f02 = zi[i-1, j+1]      #row0 col2 >> x2,y0\n",
    "\n",
    "                f10 = zi[i, j-1]        #row1 col0 >> x0,y1\n",
    "                f11 = zi[i, j]    #row1 col1 >> x1,y1\n",
    "                f12 = zi[i, j+1]  #row1 col2 >> x2,y1\n",
    "\n",
    "                f20 = zi[i+1,j-1]       #row2 col0 >> x0,y2\n",
    "                f21 = zi[i+1,j]   #row2 col1 >> x1,y2\n",
    "                f22 = zi[i+1,j+1] #row2 col2 >> x2,y2\n",
    "\n",
    "                if 0 < i < xi.size-2 and 0 < j < yi.size-2:\n",
    "\n",
    "                    f03 = zi[i-1, j+2]      #row0 col3 >> x3,y0\n",
    "\n",
    "                    f13 = zi[i,j+2]         #row1 col3 >> x3,y1\n",
    "\n",
    "                    f23 = zi[i+1,j+2]       #row2 col3 >> x3,y2\n",
    "\n",
    "                    f30 = zi[i+2,j-1]       #row3 col0 >> x0,y3\n",
    "                    f31 = zi[i+2,j]         #row3 col1 >> x1,y3\n",
    "                    f32 = zi[i+2,j+1]       #row3 col2 >> x2,y3\n",
    "                    f33 = zi[i+2,j+2]       #row3 col3 >> x3,y3\n",
    "\n",
    "                elif i<=0: \n",
    "\n",
    "                    f03 = f02               #row0 col3 >> x3,y0\n",
    "\n",
    "                    f13 = f12               #row1 col3 >> x3,y1\n",
    "\n",
    "                    f23 = f22               #row2 col3 >> x3,y2\n",
    "\n",
    "                    f30 = zi[i+2,j-1]       #row3 col0 >> x0,y3\n",
    "                    f31 = zi[i+2,j]         #row3 col1 >> x1,y3\n",
    "                    f32 = zi[i+2,j+1]       #row3 col2 >> x2,y3\n",
    "                    f33 = f32               #row3 col3 >> x3,y3             \n",
    "\n",
    "                elif j<=0:\n",
    "\n",
    "                    f03 = zi[i-1, j+2]      #row0 col3 >> x3,y0\n",
    "\n",
    "                    f13 = zi[i,j+2]         #row1 col3 >> x3,y1\n",
    "\n",
    "                    f23 = zi[i+1,j+2]       #row2 col3 >> x3,y2\n",
    "\n",
    "                    f30 = f20               #row3 col0 >> x0,y3\n",
    "                    f31 = f21               #row3 col1 >> x1,y3\n",
    "                    f32 = f22               #row3 col2 >> x2,y3\n",
    "                    f33 = f23               #row3 col3 >> x3,y3\n",
    "\n",
    "\n",
    "                elif i == xi.size-2 or j == yi.size-2:\n",
    "\n",
    "                    f03 = f02               #row0 col3 >> x3,y0\n",
    "\n",
    "                    f13 = f12               #row1 col3 >> x3,y1\n",
    "\n",
    "                    f23 = f22               #row2 col3 >> x3,y2\n",
    "\n",
    "                    f30 = f20               #row3 col0 >> x0,y3\n",
    "                    f31 = f21               #row3 col1 >> x1,y3\n",
    "                    f32 = f22               #row3 col2 >> x2,y3\n",
    "                    f33 = f23               #row3 col3 >> x3,y3\n",
    "\n",
    "                Z = np.array([f00, f01, f02, f03,\n",
    "                             f10, f11, f12, f13,\n",
    "                             f20, f21, f22, f23,\n",
    "                             f30, f31, f32, f33]).reshape(4,4).transpose()\n",
    "\n",
    "                X = np.tile(np.array([-1, 0, 1, 2]), (4,1))\n",
    "                X[0,:] = X[0,:]**3\n",
    "                X[1,:] = X[1,:]**2\n",
    "                X[-1,:] = 1\n",
    "\n",
    "                Cr = Z@np.linalg.inv(X)\n",
    "                R = Cr@np.array([px**3, px**2, px, 1])\n",
    "\n",
    "                Y = np.tile(np.array([-1, 0, 1, 2]), (4,1)).transpose()\n",
    "                Y[:,0] = Y[:,0]**3\n",
    "                Y[:,1] = Y[:,1]**2\n",
    "                Y[:,-1] = 1\n",
    "\n",
    "                Cc = np.linalg.inv(Y)@R\n",
    "\n",
    "                z[n,m]=(Cc@np.array([py**3, py**2, py, 1]))\n",
    "\n",
    "\n",
    "    return z"
   ]
  },
  {
   "cell_type": "code",
   "execution_count": 46,
   "metadata": {},
   "outputs": [],
   "source": [
    "a = 0b100; b = 0b100"
   ]
  },
  {
   "cell_type": "code",
   "execution_count": 80,
   "metadata": {},
   "outputs": [
    {
     "name": "stdout",
     "output_type": "stream",
     "text": [
      "3.197888135910034 3.289870500564575\n"
     ]
    }
   ],
   "source": [
    "RUN = 10000000\n",
    "res = -1\n",
    "import time as T\n",
    "ti = T.time()\n",
    "a = 0\n",
    "\n",
    "for i in range(RUN):\n",
    "    a = 2\n",
    "    a -= a + 1\n",
    "toc1 = T.time() - ti\n",
    "ti = T.time()\n",
    "for i in range(RUN):\n",
    "    a = 2\n",
    "    a = a - a + 1\n",
    "toc2 = T.time() - ti\n",
    "\n",
    "print(toc1, toc2)"
   ]
  },
  {
   "cell_type": "code",
   "execution_count": 55,
   "metadata": {},
   "outputs": [
    {
     "data": {
      "text/plain": [
       "'0b110'"
      ]
     },
     "execution_count": 55,
     "metadata": {},
     "output_type": "execute_result"
    }
   ],
   "source": [
    "bin(a|b)"
   ]
  },
  {
   "cell_type": "code",
   "execution_count": 70,
   "metadata": {},
   "outputs": [
    {
     "data": {
      "text/plain": [
       "numpy.ndarray"
      ]
     },
     "execution_count": 70,
     "metadata": {},
     "output_type": "execute_result"
    }
   ],
   "source": [
    "a = np.array([[1,2],[2,2]])\n",
    "type(a)"
   ]
  },
  {
   "cell_type": "code",
   "execution_count": 71,
   "metadata": {},
   "outputs": [
    {
     "data": {
      "text/plain": [
       "(2, 2)"
      ]
     },
     "execution_count": 71,
     "metadata": {},
     "output_type": "execute_result"
    }
   ],
   "source": [
    "a.shape"
   ]
  },
  {
   "cell_type": "code",
   "execution_count": 72,
   "metadata": {},
   "outputs": [
    {
     "ename": "TypeError",
     "evalue": "unsupported operand type(s) for -: 'tuple' and 'int'",
     "output_type": "error",
     "traceback": [
      "\u001b[1;31m---------------------------------------------------------------------------\u001b[0m",
      "\u001b[1;31mTypeError\u001b[0m                                 Traceback (most recent call last)",
      "\u001b[1;32m<ipython-input-72-76b7fedf9412>\u001b[0m in \u001b[0;36m<module>\u001b[1;34m()\u001b[0m\n\u001b[1;32m----> 1\u001b[1;33m \u001b[0ma\u001b[0m\u001b[1;33m.\u001b[0m\u001b[0mshape\u001b[0m \u001b[1;33m-\u001b[0m\u001b[1;36m1\u001b[0m\u001b[1;33m\u001b[0m\u001b[0m\n\u001b[0m",
      "\u001b[1;31mTypeError\u001b[0m: unsupported operand type(s) for -: 'tuple' and 'int'"
     ]
    }
   ],
   "source": [
    "a.shape -1"
   ]
  },
  {
   "cell_type": "code",
   "execution_count": 332,
   "metadata": {},
   "outputs": [
    {
     "name": "stdout",
     "output_type": "stream",
     "text": [
      "0b100\n",
      "0b11\n"
     ]
    }
   ],
   "source": [
    "print(bin(0b111 and 0b100))\n",
    "print(bin(-(0b111 and ~(0b1 << 1))))"
   ]
  },
  {
   "cell_type": "code",
   "execution_count": null,
   "metadata": {},
   "outputs": [],
   "source": []
  },
  {
   "cell_type": "code",
   "execution_count": 334,
   "metadata": {},
   "outputs": [
    {
     "name": "stdout",
     "output_type": "stream",
     "text": [
      "-8193\n",
      "1318912\n"
     ]
    }
   ],
   "source": [
    "a = 1323192 \n",
    "print(a and 0b11111110000000)))\n",
    "print((a >> FBIT) << FBIT)"
   ]
  },
  {
   "cell_type": "code",
   "execution_count": null,
   "metadata": {},
   "outputs": [],
   "source": []
  },
  {
   "cell_type": "code",
   "execution_count": 314,
   "metadata": {},
   "outputs": [],
   "source": [
    "def ccCR(a,b):\n",
    "    y = CR(12,7)\n",
    "    Y = y >> FBIT << FBIT\n",
    "    fy = y - Y\n",
    "def cyCR(a,b):\n",
    "    y = CR(12,7)\n",
    "    Y = y and \n",
    "    fy = y - Y"
   ]
  },
  {
   "cell_type": "code",
   "execution_count": 315,
   "metadata": {},
   "outputs": [
    {
     "data": {
      "text/plain": [
       "(14043, 8192, 5851)"
      ]
     },
     "execution_count": 315,
     "metadata": {},
     "output_type": "execute_result"
    }
   ],
   "source": [
    "y, Y, fy"
   ]
  },
  {
   "cell_type": "code",
   "execution_count": 317,
   "metadata": {},
   "outputs": [
    {
     "data": {
      "text/plain": [
       "1.7142857142857142"
      ]
     },
     "execution_count": 317,
     "metadata": {},
     "output_type": "execute_result"
    }
   ],
   "source": [
    "12/7"
   ]
  },
  {
   "cell_type": "code",
   "execution_count": 316,
   "metadata": {},
   "outputs": [
    {
     "data": {
      "text/plain": [
       "0.7142333984375"
      ]
     },
     "execution_count": 316,
     "metadata": {},
     "output_type": "execute_result"
    }
   ],
   "source": [
    "fy / VBIT"
   ]
  },
  {
   "cell_type": "code",
   "execution_count": 313,
   "metadata": {},
   "outputs": [
    {
     "data": {
      "text/plain": [
       "(14043, 2)"
      ]
     },
     "execution_count": 313,
     "metadata": {},
     "output_type": "execute_result"
    }
   ],
   "source": [
    "y, Y"
   ]
  },
  {
   "cell_type": "code",
   "execution_count": 311,
   "metadata": {},
   "outputs": [
    {
     "data": {
      "text/plain": [
       "4"
      ]
     },
     "execution_count": 311,
     "metadata": {},
     "output_type": "execute_result"
    }
   ],
   "source": [
    "Y"
   ]
  },
  {
   "cell_type": "code",
   "execution_count": 307,
   "metadata": {},
   "outputs": [],
   "source": [
    "def resizeBC(im, h, w):\n",
    "    \"\"\"\n",
    "    @brief \n",
    "    Sample code:\n",
    "    https://stackoverflow.com/questions/52700878/bicubic-interpolation-python\n",
    "    \n",
    "    BiCubic Interpolation explain:\n",
    "    http://www.ahinson.com/algorithms_general/Sections/InterpolationRegression/InterpolationBicubic.pdf\n",
    "    @param im = src image\n",
    "    @param h = dst height\n",
    "    @param w = dst width\n",
    "    @retval img = resize 2d array with shape = (h, w)\n",
    "    \"\"\"\n",
    "    ih, iw, ic = im.shape\n",
    "    ih_, iw_ = ih-1, iw-1\n",
    "    img = np.empty((h, w, ic),dtype=np.uint8)\n",
    "    h_r = ih / h\n",
    "    w_r = iw / w\n",
    "    deltax = 1 #xi[1] - xi[0]\n",
    "    deltay = 1 #yi[1] - yi[0]\n",
    "    \n",
    "    f = np.empty((4,4), np.uint8)\n",
    "    met = clip\n",
    "    \n",
    "    for i in range(ic):\n",
    "        for j in range(h):\n",
    "            for k in range(w):\n",
    "\n",
    "                #if xi.min() <= x <= xi.max() and yi.min() <= y <= yi.max():\n",
    "                \n",
    "                # common \n",
    "                x = k * w_r\n",
    "                y = j * h_r\n",
    "                W = int(x)\n",
    "                H = int(y)\n",
    "                \n",
    "                # pad zero for out of bound value\n",
    "                px = x - W\n",
    "                py = y - H\n",
    "                \n",
    "                #px = (x-x1)/(x2-x1)\n",
    "                #py = (y-y1)/(y2-y1)\n",
    "\n",
    "                #f00 = zi[i-1, j-1]      #row0 col0 >> x0,y0\n",
    "                #f01 = zi[i-1, j]        #row0 col1 >> x1,y0\n",
    "                #f02 = zi[i-1, j+1]      #row0 col2 >> x2,y0\n",
    "                \"\"\"\n",
    "                if (H == 0) and (W == 0):\n",
    "                    f[0,0] = im[H  , W  , i]\n",
    "                elif (W == 0):\n",
    "                    f[0,0] = im[H-1  , W  , i]\n",
    "                    f[1,0] = im[H    , W  , i]\n",
    "                    f[2,0] = im[H+1  , W  , i]\n",
    "                    f[3,0] = im[H+2  , W  , i]\n",
    "                elif (H == 0):\n",
    "                    f[0,0] = im[H  , W-1, i]      #row0 col0 >> x0,y0\n",
    "                    f[0,1] = im[H  , W  , i]        #row0 col1 >> x1,y0\n",
    "                    f[0,2] = im[H  , W+1, i]      #row0 col2 >> x2,y0\n",
    "                    f[0,3] = im[H  , W+2, i]\n",
    "                else:\n",
    "                    f[0,0] = im[H-1, W-1, i]      #row0 col0 >> x0,y0\n",
    "                    f[0,1] = im[H-1, W  , i]        #row0 col1 >> x1,y0\n",
    "                    f[0,2] = im[H-1, W+1, i]      #row0 col2 >> x2,y0\n",
    "                    f[0,3] = im[H-1, W+2, i]\n",
    "                \"\"\"\n",
    "                    \n",
    "                #f10 = zi[i, j-1]        #row1 col0 >> x0,y1\n",
    "                #f11 = p00 = zi[i, j]    #row1 col1 >> x1,y1\n",
    "                #f12 = p01 = zi[i, j+1]  #row1 col2 >> x2,y1\n",
    "                d0w = met(W-1, iw_, 0)\n",
    "                d1w = met(W  , iw_, 0)\n",
    "                d2w = met(W+1, iw_, 0)\n",
    "                d3w = met(W+2, iw_, 0)   \n",
    "                #print((j,k,i),d0w,d1w,d2w,d3w,(ih,iw,ic),'size_r',(h_r,w_r),(j*h_r,k*w_r),met(W-1, iw_, 0))\n",
    "                for q in range(4):\n",
    "                    d0h = met(H+q-1, ih_, 0)\n",
    "                    f[q,0] = im[d0h, d0w, i]      \n",
    "                    f[q,1] = im[d0h, d1w, i]       \n",
    "                    f[q,2] = im[d0h, d2w, i]     \n",
    "                    f[q,3] = im[d0h, d3w, i] \n",
    "                f = f\n",
    "                #print(f.shape,XINV.shape, XINV, type(f), type(XINV), f.dtype, XINV.dtype)\n",
    "                Cr = f@XINV\n",
    "                PPX = np.array([px*px*px, px*px, px, 1])\n",
    "                #print('px:',px,'\\n',PPX,'\\n')\n",
    "                #print(\"CR PPX\",Cr.shape, PPX.shape, type(Cr), type(PPX), Cr.dtype, PPX.dtype)\n",
    "                R  = Cr@PPX\n",
    "                Cc = YINV@R\n",
    "\n",
    "                img[j,k,i]= clip(int(Cc@(np.array([py*py*py, py*py, py, 1]))),255,0)\n",
    "\n",
    "\n",
    "    return img\n",
    "def resizeABC(im, h, w):\n",
    "    \"\"\"\n",
    "    @brief \n",
    "    Sample code:\n",
    "    https://stackoverflow.com/questions/52700878/bicubic-interpolation-python\n",
    "    \n",
    "    BiCubic Interpolation explain:\n",
    "    http://www.ahinson.com/algorithms_general/Sections/InterpolationRegression/InterpolationBicubic.pdf\n",
    "    @param im = src image\n",
    "    @param h = dst height\n",
    "    @param w = dst width\n",
    "    @retval img = resize 2d array with shape = (h, w)\n",
    "    \"\"\"\n",
    "    ih, iw, ic = im.shape\n",
    "    ih_, iw_ = ih-1, iw-1\n",
    "    img = np.empty((h, w, ic),dtype=np.uint8)\n",
    "    F = np.empty((4,4), dtype=np.uint8)\n",
    "    h_r = SCR(ih, h)\n",
    "    w_r = SCR(iw, w)\n",
    "   \n",
    "    met = clip\n",
    "    \n",
    "    for j in range(h):\n",
    "        y = j * h_r\n",
    "        H = (y + hSBIT)>> SBIT << SBIT\n",
    "        py = y - H\n",
    "        PY = [SDR(SDR(py * py) * py), SDR(py*py), py, 1]\n",
    "        for k in range(w):\n",
    "            x = k * w_r\n",
    "            W = int(x)              \n",
    "            px = x - W\n",
    "            d0w = met(W-1, iw_, 0)\n",
    "            d1w = met(W  , iw_, 0)\n",
    "            d2w = met(W+1, iw_, 0)\n",
    "            d3w = met(W+2, iw_, 0) \n",
    "            for i in range(ic):  \n",
    "                for q in range(4):\n",
    "                    d0h = met(H+q-1, ih_, 0)\n",
    "                    F[q,0] = im[d0h, d0w, i]      \n",
    "                    F[q,1] = im[d0h, d1w, i]       \n",
    "                    F[q,2] = im[d0h, d2w, i]     \n",
    "                    F[q,3] = im[d0h, d3w, i] \n",
    "                \n",
    "                Cr = F@XINV\n",
    "                PPX [SDR(SDR(px * px) * px), SDR(px*px), py, 1]\n",
    "                #print('px:',px,'\\n',PPX,'\\n')\n",
    "                #print(\"CR PPX\",Cr.shape, PPX.shape, type(Cr), type(PPX), Cr.dtype, PPX.dtype)\n",
    "                R  = Cr@PPX\n",
    "                Cc = YINV@R\n",
    "\n",
    "                img[j,k,i]= clip(int(Cc@(np.array([py*py*py, py*py, py, 1]))),255,0)\n",
    "\n",
    "\n",
    "    return img\n"
   ]
  },
  {
   "cell_type": "code",
   "execution_count": 308,
   "metadata": {},
   "outputs": [
    {
     "name": "stdout",
     "output_type": "stream",
     "text": [
      "2.5745046138763428 2.117323875427246\n"
     ]
    }
   ],
   "source": [
    "W,H = 224,224\n",
    "RUN = 1\n",
    "ti = T.time()\n",
    "for i in range(RUN):\n",
    "    rdog = resizeBC(dog_array, W, H)\n",
    "toc1 = T.time() - ti\n",
    "ti = T.time()\n",
    "for i in range(RUN):\n",
    "     rdog = resizeABC(dog_array, W, H)\n",
    "toc2 = T.time() - ti\n",
    "print(toc1, toc2)"
   ]
  },
  {
   "cell_type": "code",
   "execution_count": 299,
   "metadata": {},
   "outputs": [],
   "source": [
    "imb = Image.fromarray(b.astype(np.uint8))\n",
    "imb.show()"
   ]
  },
  {
   "cell_type": "code",
   "execution_count": 295,
   "metadata": {},
   "outputs": [],
   "source": [
    "b = cresizeABL(dog_array,300,300)"
   ]
  },
  {
   "cell_type": "code",
   "execution_count": 296,
   "metadata": {},
   "outputs": [],
   "source": [
    "imb = Image.fromarray(np.asarray(b))\n",
    "imb.show()"
   ]
  },
  {
   "cell_type": "code",
   "execution_count": 214,
   "metadata": {},
   "outputs": [],
   "source": [
    "ima = Image.fromarray(a)\n",
    "imb = Image.fromarray(b.astype(np.uint8))"
   ]
  },
  {
   "cell_type": "code",
   "execution_count": 177,
   "metadata": {},
   "outputs": [],
   "source": [
    "ima.show()"
   ]
  },
  {
   "cell_type": "code",
   "execution_count": 206,
   "metadata": {},
   "outputs": [],
   "source": [
    "imb.show()"
   ]
  },
  {
   "cell_type": "code",
   "execution_count": 161,
   "metadata": {},
   "outputs": [
    {
     "name": "stdout",
     "output_type": "stream",
     "text": [
      "(24, 26, 1)\n"
     ]
    }
   ],
   "source": [
    "print(b.astype(np.uint8).shape)"
   ]
  },
  {
   "cell_type": "code",
   "execution_count": 126,
   "metadata": {},
   "outputs": [
    {
     "data": {
      "text/plain": [
       "dtype('uint8')"
      ]
     },
     "execution_count": 126,
     "metadata": {},
     "output_type": "execute_result"
    }
   ],
   "source": [
    "a.dtype"
   ]
  },
  {
   "cell_type": "code",
   "execution_count": 94,
   "metadata": {},
   "outputs": [
    {
     "data": {
      "text/plain": [
       "(30, 40, 1)"
      ]
     },
     "execution_count": 94,
     "metadata": {},
     "output_type": "execute_result"
    }
   ],
   "source": [
    "a.shape"
   ]
  },
  {
   "cell_type": "code",
   "execution_count": 372,
   "metadata": {},
   "outputs": [
    {
     "data": {
      "text/plain": [
       "array([[-1.,  3., -2., -0.],\n",
       "       [ 3., -6., -3.,  6.],\n",
       "       [-3.,  3.,  6.,  0.],\n",
       "       [ 1., -0., -1., -0.]])"
      ]
     },
     "execution_count": 372,
     "metadata": {},
     "output_type": "execute_result"
    }
   ],
   "source": [
    "X = np.tile(np.array([-1, 0, 1, 2]), (4,1))\n",
    "X[0,:] = X[0,:]**3\n",
    "X[1,:] = X[1,:]**2\n",
    "X[-1,:] = 1\n",
    "\n",
    "a = np.linalg.inv(X)\n",
    "a * 6"
   ]
  },
  {
   "cell_type": "code",
   "execution_count": 35,
   "metadata": {},
   "outputs": [],
   "source": [
    "Y = np.tile(np.array([-1, 0, 1, 2]), (4,1)).transpose()\n",
    "Y[:,0] = Y[:,0]**3\n",
    "Y[:,1] = Y[:,1]**2\n",
    "Y[:,-1] = 1\n",
    "\n",
    "Cc = np.linalg.inv(Y)"
   ]
  },
  {
   "cell_type": "code",
   "execution_count": 43,
   "metadata": {},
   "outputs": [],
   "source": [
    "cy = Cc * 6\n",
    "cy[1,3] = 0"
   ]
  },
  {
   "cell_type": "code",
   "execution_count": 44,
   "metadata": {},
   "outputs": [
    {
     "data": {
      "text/plain": [
       "array([[-1.,  3., -3.,  1.],\n",
       "       [ 3., -6.,  3.,  0.],\n",
       "       [-2., -3.,  6., -1.],\n",
       "       [ 0.,  6.,  0.,  0.]])"
      ]
     },
     "execution_count": 44,
     "metadata": {},
     "output_type": "execute_result"
    }
   ],
   "source": [
    "cy"
   ]
  },
  {
   "cell_type": "code",
   "execution_count": 30,
   "metadata": {},
   "outputs": [
    {
     "data": {
      "text/plain": [
       "array([[-1.,  3., -2., -0.],\n",
       "       [ 3., -6., -3.,  6.],\n",
       "       [-3.,  3.,  6.,  0.],\n",
       "       [ 1., -0., -1., -0.]])"
      ]
     },
     "execution_count": 30,
     "metadata": {},
     "output_type": "execute_result"
    }
   ],
   "source": [
    "a * 6"
   ]
  },
  {
   "cell_type": "code",
   "execution_count": 15,
   "metadata": {},
   "outputs": [],
   "source": [
    "import cv2"
   ]
  },
  {
   "cell_type": "code",
   "execution_count": 21,
   "metadata": {},
   "outputs": [
    {
     "name": "stdout",
     "output_type": "stream",
     "text": [
      "toc1:0.8641\n",
      "toc2:0.9948\n",
      "toc3:2.0058\n",
      "toc4:1.0666\n",
      "toc5:1.810819\n",
      "toc6c:0.9856\n",
      "toc7c:1.0837\n"
     ]
    }
   ],
   "source": [
    "RUN = 300\n",
    "W,H = 224, 224\n",
    "ti = T.time()\n",
    "for i in range(RUN):\n",
    "    rdog = cv2.resize(np.array(dog), (W, H), interpolation=cv2.INTER_NEAREST)\n",
    "toc1 = T.time() - ti\n",
    "ti = T.time()\n",
    "for i in range(RUN):\n",
    "    rdog = cv2.resize(np.array(dog), (W, H), interpolation=cv2.INTER_LINEAR)\n",
    "toc2 = T.time() - ti\n",
    "ti = T.time()\n",
    "for i in range(RUN):\n",
    "    rdog = cv2.resize(np.array(dog), (W, H), interpolation=cv2.INTER_AREA)\n",
    "toc3 = T.time() - ti\n",
    "ti = T.time()\n",
    "for i in range(RUN):\n",
    "    rdog = cv2.resize(np.array(dog), (W, H), interpolation=cv2.INTER_CUBIC)\n",
    "toc4 = T.time() - ti\n",
    "ti = T.time()\n",
    "for i in range(RUN):\n",
    "    rdog = cv2.resize(np.array(dog), (W, H), interpolation=cv2.INTER_LANCZOS4)\n",
    "toc5 = T.time() - ti\n",
    "ti = T.time()\n",
    "for i in range(RUN):\n",
    "    rdog = np.asarray(cresizeANN(np.array(dog), H, W))\n",
    "toc6 = T.time() - ti\n",
    "ti = T.time()\n",
    "for i in range(RUN):\n",
    "    rdog = np.asarray(cresizeABL(np.array(dog), H, W))\n",
    "toc7 = T.time() - ti\n",
    "\n",
    "print(\"toc1:%.4f\\ntoc2:%.4f\\ntoc3:%.4f\\ntoc4:%.4f\\ntoc5:%f\" %( toc1, toc2, toc3, toc4, toc5))\n",
    "print(\"toc6c:%.4f\\ntoc7c:%.4f\" % (toc6, toc7))"
   ]
  },
  {
   "cell_type": "code",
   "execution_count": null,
   "metadata": {},
   "outputs": [],
   "source": []
  }
 ],
 "metadata": {
  "kernelspec": {
   "display_name": "Python 3",
   "language": "python",
   "name": "python3"
  },
  "language_info": {
   "codemirror_mode": {
    "name": "ipython",
    "version": 3
   },
   "file_extension": ".py",
   "mimetype": "text/x-python",
   "name": "python",
   "nbconvert_exporter": "python",
   "pygments_lexer": "ipython3",
   "version": "3.6.4"
  }
 },
 "nbformat": 4,
 "nbformat_minor": 2
}
